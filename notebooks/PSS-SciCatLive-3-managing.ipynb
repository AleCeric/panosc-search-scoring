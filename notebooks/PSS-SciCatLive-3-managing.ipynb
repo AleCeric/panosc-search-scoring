{
 "cells": [
  {
   "cell_type": "markdown",
   "id": "fb938a2b-c423-421d-aafd-5291213bc020",
   "metadata": {},
   "source": [
    "# PSS SciCatLive populating 3: managing\n",
    "## PaNOSC Search Scoring Workshop, Part 3\n",
    "## SciCatLive  PaNOSC Search Scoring, managing the information in the scoring service\n",
    "\n",
    "This notebook shows how to retrieve information from the scoring service, specifically the list and count of items, weights and terms.  \n",
    "It assumes that you have the SciCatLive running on your machine and that you already run the previous two notebooks: **PSS SciCatLive 1 populating** and **PSS SCiCatLive 2 weight computing**\n",
    "\n",
    "This notebook leverages the following endpoints:\n",
    "- items\n",
    "- weights\n",
    "- terms\n",
    "\n",
    "\n",
    "**Important**: all the current items and weights already present in the database will be deleted.\n",
    "\n",
    "**Disclaimer**:  \n",
    "This notebook has been prepared within the context  of the PaNOSC Scoring Workshop.  \n",
    "It is provided it as is, although you are free to re-use it for other purposed and modified it as you need.   \n",
    "By using this notebook, you are releasing ESS and its team from any responsability."
   ]
  },
  {
   "cell_type": "code",
   "execution_count": null,
   "id": "66df91c2-7eb0-422d-822d-88ea959048cf",
   "metadata": {
    "tags": []
   },
   "outputs": [],
   "source": [
    "%run PSS-SciCatLive-common.ipynb"
   ]
  },
  {
   "cell_type": "markdown",
   "id": "21c49b9d-89e5-40c8-b6c8-65a1eed0004c",
   "metadata": {},
   "source": [
    "## Items\n",
    "\n",
    "### retrieve all items, count them and check one"
   ]
  },
  {
   "cell_type": "markdown",
   "id": "0a5aac3f-66d8-444e-9176-36b69c4df783",
   "metadata": {},
   "source": [
    "This is the items endpoint"
   ]
  },
  {
   "cell_type": "code",
   "execution_count": null,
   "id": "3b6f7666-ee1e-4e9d-ba05-e1da1882a1d0",
   "metadata": {},
   "outputs": [],
   "source": [
    "pss_items_url"
   ]
  },
  {
   "cell_type": "markdown",
   "id": "1ac0a754-aafe-49a6-8caa-f6a3df84f03a",
   "metadata": {},
   "source": [
    "Use the count endpoint to get the number of items"
   ]
  },
  {
   "cell_type": "code",
   "execution_count": null,
   "id": "df08705a-595a-4d3e-a8c6-676400199517",
   "metadata": {},
   "outputs": [],
   "source": [
    "res = requests.get(pss_items_url + '/count')"
   ]
  },
  {
   "cell_type": "code",
   "execution_count": null,
   "id": "957ba026-12cb-4312-afce-b6aac944ba59",
   "metadata": {},
   "outputs": [],
   "source": [
    "print(\"There are {} items in teh scoring system\".format(res.json()['count']))"
   ]
  },
  {
   "cell_type": "markdown",
   "id": "3f0ce609-de18-4123-8a7c-ab95e42b6c17",
   "metadata": {},
   "source": [
    "Now we retrieve all the items, check how many of them have been returned and visually check one of them"
   ]
  },
  {
   "cell_type": "code",
   "execution_count": null,
   "id": "584ea181-7795-42f7-b735-aa5f8c280fb7",
   "metadata": {},
   "outputs": [],
   "source": [
    "res = requests.get(pss_items_url)"
   ]
  },
  {
   "cell_type": "markdown",
   "id": "6584c9e9-bfdc-48aa-93e9-40456a92cd6a",
   "metadata": {},
   "source": [
    "Successful response has status code of 200 "
   ]
  },
  {
   "cell_type": "code",
   "execution_count": null,
   "id": "c4773bf1-ac43-45fc-8abe-b6cec9018aa8",
   "metadata": {},
   "outputs": [],
   "source": [
    "res"
   ]
  },
  {
   "cell_type": "markdown",
   "id": "ac3785f8-87e4-45d1-bc9b-7ab997bb8c86",
   "metadata": {},
   "source": [
    "Extract the weights from the response"
   ]
  },
  {
   "cell_type": "code",
   "execution_count": null,
   "id": "c8636ac1-db95-42c1-a6bb-8203530c5331",
   "metadata": {},
   "outputs": [],
   "source": [
    "items = res.json()"
   ]
  },
  {
   "cell_type": "code",
   "execution_count": null,
   "id": "97284443-8e73-46f6-8e77-ba4b6c9029fc",
   "metadata": {},
   "outputs": [],
   "source": [
    "print(\"Scoring system returned {} items\".format(len(items)))"
   ]
  },
  {
   "cell_type": "markdown",
   "id": "28112317-e338-4a4c-b965-daf4ee3fec48",
   "metadata": {},
   "source": [
    "Let's visually check one items"
   ]
  },
  {
   "cell_type": "code",
   "execution_count": null,
   "id": "950cb02e-845e-49b4-8390-4d3e32bf6e9f",
   "metadata": {},
   "outputs": [],
   "source": [
    "items[0]"
   ]
  },
  {
   "cell_type": "markdown",
   "id": "558cc9db-02b3-42c5-94b3-573f2bc22e85",
   "metadata": {},
   "source": [
    "## Weights\n",
    "\n",
    "### retrieve all weights, count them and check one"
   ]
  },
  {
   "cell_type": "markdown",
   "id": "334e4d4e-42eb-479c-820a-412d4a47f521",
   "metadata": {},
   "source": [
    "This is the weights endpoint"
   ]
  },
  {
   "cell_type": "code",
   "execution_count": null,
   "id": "e162a187-7ed0-4f05-9bcb-a276ea0bdd8f",
   "metadata": {},
   "outputs": [],
   "source": [
    "pss_weights_url"
   ]
  },
  {
   "cell_type": "markdown",
   "id": "5e877cab-3ed5-4810-b8ed-92f04393244a",
   "metadata": {},
   "source": [
    "Use the count endpoint to get the number of weights"
   ]
  },
  {
   "cell_type": "code",
   "execution_count": null,
   "id": "e8de7211-abe8-4ca6-ac66-5d0be86615f2",
   "metadata": {},
   "outputs": [],
   "source": [
    "res = requests.get(pss_weights_url + '/count')"
   ]
  },
  {
   "cell_type": "code",
   "execution_count": null,
   "id": "fbcc17d5-c8af-4b4f-9c08-642d5fd974f1",
   "metadata": {},
   "outputs": [],
   "source": [
    "print(\"There are {} weights in teh scoring system\".format(res.json()['count']))"
   ]
  },
  {
   "cell_type": "markdown",
   "id": "a45734d3-6c43-4c80-bbb5-20b8d1fcbfab",
   "metadata": {},
   "source": [
    "Now we retrieve all the weights, check how many of them have been returned and visually check one of them"
   ]
  },
  {
   "cell_type": "code",
   "execution_count": null,
   "id": "1d7fb3d0-ee80-49c3-a7fc-a95c1d53b2ee",
   "metadata": {},
   "outputs": [],
   "source": [
    "res = requests.get(pss_weights_url)"
   ]
  },
  {
   "cell_type": "markdown",
   "id": "7d3843ff-e968-4ede-82b7-1daf9a74dd64",
   "metadata": {},
   "source": [
    "Successful response has status code of 200 "
   ]
  },
  {
   "cell_type": "code",
   "execution_count": null,
   "id": "b9a3adc4-bb91-491c-a10e-6f34f25de5e0",
   "metadata": {},
   "outputs": [],
   "source": [
    "res"
   ]
  },
  {
   "cell_type": "markdown",
   "id": "ec201dfe-e2ee-44dc-93ff-a0ed18da7579",
   "metadata": {},
   "source": [
    "Extract the weights from the response"
   ]
  },
  {
   "cell_type": "code",
   "execution_count": null,
   "id": "024df441-d8f9-4326-947a-23b8651a55b7",
   "metadata": {},
   "outputs": [],
   "source": [
    "weights = res.json()"
   ]
  },
  {
   "cell_type": "code",
   "execution_count": null,
   "id": "9c25f192-a61e-4103-9536-9788f33379a3",
   "metadata": {},
   "outputs": [],
   "source": [
    "print(\"Scoring system returned {} weights\".format(len(weights)))"
   ]
  },
  {
   "cell_type": "markdown",
   "id": "6ae58054-3bea-4c46-a16d-a0931c8e5c9f",
   "metadata": {},
   "source": [
    "Let's visually check one weight"
   ]
  },
  {
   "cell_type": "code",
   "execution_count": null,
   "id": "b2aab390-827e-49df-8b08-031257c493ea",
   "metadata": {},
   "outputs": [],
   "source": [
    "weights[0]"
   ]
  },
  {
   "cell_type": "markdown",
   "id": "a41a5f49-820e-445c-a510-f4230b8ad432",
   "metadata": {},
   "source": [
    "## Terms\n",
    "\n",
    "### retrieve all terms, count them, check one entry and produce a complete list"
   ]
  },
  {
   "cell_type": "markdown",
   "id": "a6fa42a0-7679-4f93-b844-5cdf1ec38f7a",
   "metadata": {},
   "source": [
    "This is the ter,ms endpoint"
   ]
  },
  {
   "cell_type": "code",
   "execution_count": null,
   "id": "e0833c32-5c47-44d1-bd3c-3ecbbdba9650",
   "metadata": {},
   "outputs": [],
   "source": [
    "pss_terms_url"
   ]
  },
  {
   "cell_type": "markdown",
   "id": "0b33a4fd-ef71-4924-b651-4d038b39f52e",
   "metadata": {},
   "source": [
    "Use the count endpoint to get the number of weights"
   ]
  },
  {
   "cell_type": "code",
   "execution_count": null,
   "id": "78cae6be-3815-4137-a8f8-01caa7ed0a84",
   "metadata": {},
   "outputs": [],
   "source": [
    "res = requests.get(pss_terms_url + '/count')"
   ]
  },
  {
   "cell_type": "code",
   "execution_count": null,
   "id": "435a08ad-7b28-441d-8745-5c3e77a3c982",
   "metadata": {},
   "outputs": [],
   "source": [
    "print(\"There are {} weights in teh scoring system\".format(res.json()['count']))"
   ]
  },
  {
   "cell_type": "markdown",
   "id": "8c797966-0fdd-471a-b5e3-dcff7e4baba8",
   "metadata": {},
   "source": [
    "Now we retrieve all the weights, check how many of them have been returned and visually check one of them"
   ]
  },
  {
   "cell_type": "code",
   "execution_count": null,
   "id": "de11e679-971a-4209-b981-e519e969ed40",
   "metadata": {},
   "outputs": [],
   "source": [
    "res = requests.get(pss_terms_url)"
   ]
  },
  {
   "cell_type": "markdown",
   "id": "14bcb7de-aab6-450c-921f-bb25ded52519",
   "metadata": {},
   "source": [
    "Successful response has status code of 200 "
   ]
  },
  {
   "cell_type": "code",
   "execution_count": null,
   "id": "2a102995-dff4-494d-bd71-63b9a4fb2db4",
   "metadata": {},
   "outputs": [],
   "source": [
    "res"
   ]
  },
  {
   "cell_type": "markdown",
   "id": "72a10b23-0995-432c-9327-86f52a89157d",
   "metadata": {},
   "source": [
    "Extract the terms from the response"
   ]
  },
  {
   "cell_type": "code",
   "execution_count": null,
   "id": "218f3b89-f1a7-4574-b17e-577b582b00be",
   "metadata": {},
   "outputs": [],
   "source": [
    "terms = res.json()"
   ]
  },
  {
   "cell_type": "code",
   "execution_count": null,
   "id": "7f79e704-f118-46d8-a38e-58b35aa0ead6",
   "metadata": {},
   "outputs": [],
   "source": [
    "print(\"Scoring system returned {} terms\".format(len(terms)))"
   ]
  },
  {
   "cell_type": "markdown",
   "id": "abcc7aa8-3379-4063-bb65-e7ef1c254260",
   "metadata": {},
   "source": [
    "Let's visually check one the terms"
   ]
  },
  {
   "cell_type": "code",
   "execution_count": null,
   "id": "d4ae21ab-9f17-4017-9c17-16bee119adb3",
   "metadata": {},
   "outputs": [],
   "source": [
    "terms[5]"
   ]
  },
  {
   "cell_type": "markdown",
   "id": "771eb040-6722-497e-b005-a3bf02ce50d8",
   "metadata": {},
   "source": [
    "List all the terms"
   ]
  },
  {
   "cell_type": "code",
   "execution_count": null,
   "id": "2b4b7597-eed5-4a14-8cdb-f07b77482751",
   "metadata": {},
   "outputs": [],
   "source": [
    "[term['term'] for term in terms]"
   ]
  },
  {
   "cell_type": "code",
   "execution_count": null,
   "id": "2d2876f2-cb72-4e4b-8c8a-59d3bd2ae75b",
   "metadata": {},
   "outputs": [],
   "source": []
  }
 ],
 "metadata": {
  "kernelspec": {
   "display_name": "Python 3 (ipykernel)",
   "language": "python",
   "name": "python3"
  },
  "language_info": {
   "codemirror_mode": {
    "name": "ipython",
    "version": 3
   },
   "file_extension": ".py",
   "mimetype": "text/x-python",
   "name": "python",
   "nbconvert_exporter": "python",
   "pygments_lexer": "ipython3",
   "version": "3.8.11"
  }
 },
 "nbformat": 4,
 "nbformat_minor": 5
}
