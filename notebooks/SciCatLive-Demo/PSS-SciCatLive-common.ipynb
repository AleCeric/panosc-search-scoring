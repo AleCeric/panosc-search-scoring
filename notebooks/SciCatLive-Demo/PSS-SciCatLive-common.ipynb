{
 "cells": [
  {
   "cell_type": "markdown",
   "id": "fb938a2b-c423-421d-aafd-5291213bc020",
   "metadata": {},
   "source": [
    "# PSS SciCatLive common\n",
    "\n",
    "This notebook contains all the common constants and functions used across all the the PSS SciCatLive notebooks.  \n",
    "The information is specific to work with SciCatLive and was prepared for the PaNOSC Scoring Workshop\n",
    "\n",
    "**Disclaimer**:  \n",
    "This notebook has been prepared within the context  of the PaNOSC Scoring Workshop.  \n",
    "It is provided it as is, although you are free to re-use it for other purposed and modified it as you need.   \n",
    "By using this notebook, you are releasing ESS and its team from any responsability."
   ]
  },
  {
   "cell_type": "markdown",
   "id": "0c9995dc-66cc-46d9-b5a9-32e6bcd82649",
   "metadata": {},
   "source": [
    "Credentials used to login in SciCatLive Scicat Backend"
   ]
  },
  {
   "cell_type": "code",
   "execution_count": null,
   "id": "a3c72fd4-f4db-4dbb-9511-2484c0e30b5d",
   "metadata": {},
   "outputs": [],
   "source": [
    "username = 'admin'\n",
    "password = '2jf70TPNZsS'"
   ]
  },
  {
   "cell_type": "markdown",
   "id": "7b9d415e-5a9f-4d75-a784-8c3075761f30",
   "metadata": {},
   "source": [
    "Define all the urls needed to login in to the SciCat instance and retrieve dataset and documents"
   ]
  },
  {
   "cell_type": "code",
   "execution_count": null,
   "id": "25eee7e0-8a21-4f4a-9f9f-edf63755c3e3",
   "metadata": {},
   "outputs": [],
   "source": [
    "sc_base_url = \"http://localhost\"\n",
    "sc_api_url = '/'.join([sc_base_url,'api','v3'])\n",
    "sc_login_url = '/'.join([sc_api_url,'Users','login'])\n",
    "sc_datasets_url = '/'.join([sc_api_url,'datasets'])\n",
    "sc_proposals_url = '/'.join([sc_api_url,'proposals'])"
   ]
  },
  {
   "cell_type": "markdown",
   "id": "0a01c37c-3d23-4ffe-8829-aab642b103b5",
   "metadata": {},
   "source": [
    "Define all the urls needed to interface with scoring system"
   ]
  },
  {
   "cell_type": "code",
   "execution_count": null,
   "id": "a76f0d40-aa45-4fc4-ba5d-e26e256a0f7e",
   "metadata": {},
   "outputs": [],
   "source": [
    "pss_base_url = \"http://pss.localhost\"\n",
    "pss_items_url = '/'.join([pss_base_url,'items'])\n",
    "pss_compute_url = '/'.join([pss_base_url,'compute'])\n",
    "pss_weights_url = '/'.join([pss_base_url,'weights'])\n",
    "pss_terms_url = '/'.join([pss_base_url,'terms'])\n",
    "pss_score_url = '/'.join([pss_base_url,'score'])"
   ]
  },
  {
   "cell_type": "markdown",
   "id": "f58297c2-dcd1-4e63-beb8-8e1bfa83cde0",
   "metadata": {},
   "source": [
    "Define which fields in datasets and documents are going to be used for scoring.  \n",
    "Each groups has its own meaningful fields.  \n",
    "They are listed in key-value pairs. Key is the field name under field in the scoring item and value is the field name in SciCat"
   ]
  },
  {
   "cell_type": "code",
   "execution_count": null,
   "id": "1d4b34a8-edec-482d-9985-a4e859e8df36",
   "metadata": {},
   "outputs": [],
   "source": [
    "meaningful_fields = {\n",
    "    'datasets' : {\n",
    "        'title' : 'datasetName',\n",
    "        'metadata' : 'scientificMetadata'\n",
    "    },\n",
    "    'proposals' : {\n",
    "        'title' : 'title',\n",
    "        'abstract' : 'abstract'\n",
    "    }\n",
    "}"
   ]
  },
  {
   "cell_type": "markdown",
   "id": "6bbe8a7c-748f-4472-b73b-42721ca3924f",
   "metadata": {},
   "source": [
    "Libraries that we need "
   ]
  },
  {
   "cell_type": "code",
   "execution_count": null,
   "id": "363d8eaa-de73-4b45-8d0c-bf411eef2da5",
   "metadata": {},
   "outputs": [],
   "source": [
    "import requests"
   ]
  },
  {
   "cell_type": "markdown",
   "id": "322ac838-b990-4b99-a062-2fcadab09607",
   "metadata": {},
   "source": [
    "Functions used in notebooks"
   ]
  },
  {
   "cell_type": "code",
   "execution_count": null,
   "id": "3c7af20e-e5fb-4e52-bc57-6973dce7570a",
   "metadata": {},
   "outputs": [],
   "source": [
    "def prepFields(item,group):\n",
    "    return {\n",
    "        k: item[v]\n",
    "        for k,v\n",
    "        in meaningful_fields[group].items()\n",
    "        if v in item.keys()\n",
    "    }"
   ]
  }
 ],
 "metadata": {
  "kernelspec": {
   "display_name": "Python 3 (ipykernel)",
   "language": "python",
   "name": "python3"
  },
  "language_info": {
   "codemirror_mode": {
    "name": "ipython",
    "version": 3
   },
   "file_extension": ".py",
   "mimetype": "text/x-python",
   "name": "python",
   "nbconvert_exporter": "python",
   "pygments_lexer": "ipython3",
   "version": "3.8.11"
  }
 },
 "nbformat": 4,
 "nbformat_minor": 5
}
