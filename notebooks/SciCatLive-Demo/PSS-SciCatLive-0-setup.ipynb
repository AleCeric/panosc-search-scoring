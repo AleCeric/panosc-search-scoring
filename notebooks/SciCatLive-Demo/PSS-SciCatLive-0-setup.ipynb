{
 "cells": [
  {
   "cell_type": "markdown",
   "id": "fb938a2b-c423-421d-aafd-5291213bc020",
   "metadata": {},
   "source": [
    "# PSS SciCatLive 0: setup\n",
    "## PaNOSC Search Scoring Workshop, Part 0\n",
    "## SciCatLive environment setup\n",
    "\n",
    "This notebook shows how to set-up the SciCatLive environment which is used in the PaNOSC Scoring Workshop.  \n",
    "If provides instruction on how to download the SciCatLive files, start all the docker containers on your local machine and verify that the all the services are running.\n",
    "\n",
    "**Important**: all the current items and weights already present in the database will be deleted.\n",
    "\n",
    "**Disclaimer**:  \n",
    "This notebook has been prepared within the context  of the PaNOSC Scoring Workshop.  \n",
    "It is provided it as is, although you are free to re-use it for other purposed and modified it as you need.   \n",
    "By using this notebook, you are releasing ESS and its team from any responsability."
   ]
  },
  {
   "cell_type": "markdown",
   "id": "c2612f24-78b8-4274-b9de-756adf639121",
   "metadata": {},
   "source": [
    "## SciCatLive Repo"
   ]
  },
  {
   "cell_type": "markdown",
   "id": "fb51085c-2539-4f8b-81d5-9d069977712b",
   "metadata": {},
   "source": [
    "```bash\n",
    "https://github.com/SciCatProject/scicatlive\n",
    "```"
   ]
  },
  {
   "cell_type": "markdown",
   "id": "c1d0a639-8ca5-4e57-9e31-91787cfd8f61",
   "metadata": {},
   "source": [
    "## Retrieve SciCatLive repo"
   ]
  },
  {
   "cell_type": "markdown",
   "id": "7a6d56fa-2456-4419-b746-0945e63f1239",
   "metadata": {},
   "source": [
    "```bash\n",
    "> git clone https://github.com/SciCatProject/scicatlive scicatlive-pss-workshop\n",
    "```"
   ]
  },
  {
   "cell_type": "markdown",
   "id": "70594be1-2d09-41ed-b6ea-04817645627a",
   "metadata": {},
   "source": [
    "## Switch to the correct branch which is PSS"
   ]
  },
  {
   "cell_type": "markdown",
   "id": "2a1edf01-423f-44c7-852d-4361307a97a5",
   "metadata": {},
   "source": [
    "```bash\n",
    "> cd scicatlive-pss-workshop\n",
    "> git checkout pss\n",
    "```"
   ]
  },
  {
   "cell_type": "markdown",
   "id": "507ea058-b0c3-4e8b-a6cf-6ed2f7ab86b5",
   "metadata": {},
   "source": [
    "## Start all the containers in the background"
   ]
  },
  {
   "cell_type": "markdown",
   "id": "e56ad861-da38-464f-bb01-913b950f5ac9",
   "metadata": {},
   "source": [
    "```bash\n",
    "> docker-compose up --force-recreate -d\n",
    "\n",
    "Creating scicatlive-pss-workshop_reverse-proxy_1 ... done\n",
    "Creating scicatlive-pss-workshop_mongodb_1       ... done\n",
    "Creating scicatlive-pss-workshop_pss-scoring_1   ... done\n",
    "Creating scicatlive-pss-workshop_mongodb_seed_1  ... done\n",
    "Creating scicatlive-pss-workshop_catamel_1       ... done\n",
    "Creating scicatlive-pss-workshop_search-api_1    ... done\n",
    "Creating scicatlive-pss-workshop_catanie_1       ... done\n",
    "\n",
    "```"
   ]
  },
  {
   "cell_type": "markdown",
   "id": "43c491dd-2d05-469e-a9a7-0bdf86da3e20",
   "metadata": {},
   "source": [
    "## Check that all the containers are running\n",
    "\n",
    "If you have more containers running on your docker installation, you will have additional entries in the list"
   ]
  },
  {
   "cell_type": "markdown",
   "id": "846ca297-da61-4390-a010-3b5321b90746",
   "metadata": {},
   "source": [
    "```bash\n",
    "CONTAINER ID   IMAGE                                        COMMAND                  CREATED         STATUS         PORTS                     NAMES\n",
    "81749e3b1eab   dacat/catanie:latest                         \"/docker-entrypoint.…\"   4 minutes ago   Up 4 minutes   80/tcp                    scicatlive-pss-workshop_catanie_1\n",
    "7ccb1135af4d   dacat/panosc-search-api:latest               \"docker-entrypoint.s…\"   4 minutes ago   Up 4 minutes   3000/tcp                  scicatlive-pss-workshop_search-api_1\n",
    "384149f6bfe3   dacat/catamel:latest                         \"docker-entrypoint.s…\"   4 minutes ago   Up 4 minutes   3000/tcp                  scicatlive-pss-workshop_catamel_1\n",
    "b9835c57eb2a   nitrosx71/panosc-search-scoring:v1.0-alpha   \"conda run -n PSS py…\"   4 minutes ago   Up 4 minutes                             scicatlive-pss-workshop_pss-scoring_1\n",
    "7c9be5ad7e31   bitnami/mongodb:4.2                          \"/opt/bitnami/script…\"   4 minutes ago   Up 4 minutes   27017/tcp                 scicatlive-pss-workshop_mongodb_1\n",
    "440f34cec2a7   traefik:2.5                                  \"/entrypoint.sh --ap…\"   4 minutes ago   Up 4 minutes   0.0.0.0:80->80/tcp, ...   scicatlive-pss-workshop_reverse-proxy_1\n",
    "\n",
    "```"
   ]
  },
  {
   "cell_type": "markdown",
   "id": "d5940e48-205c-485e-86a3-e86fcc30a1a2",
   "metadata": {},
   "source": [
    "## Check if the services are accessible"
   ]
  },
  {
   "cell_type": "markdown",
   "id": "71c1ec7b-c851-47ee-b59a-0a98c80aea59",
   "metadata": {},
   "source": [
    "Pointing your web browser to the following URL should present the main SciCat frontend page"
   ]
  },
  {
   "cell_type": "markdown",
   "id": "27eed9fd-38bb-4801-ade8-bed2e79a7b88",
   "metadata": {},
   "source": [
    "```bash\n",
    "http://localhost\n",
    "```"
   ]
  },
  {
   "cell_type": "markdown",
   "id": "0b4b5ca1-fffe-430a-ad2f-f985a1634cea",
   "metadata": {},
   "source": [
    "Pointing your web browser to the following URL should present you with the explorer interface for SciCat backend"
   ]
  },
  {
   "cell_type": "markdown",
   "id": "132d471f-02eb-4f79-8fc3-fc0a5d620735",
   "metadata": {},
   "source": [
    "```bash\n",
    "http://localhost/explorer/\n",
    "```"
   ]
  },
  {
   "cell_type": "markdown",
   "id": "4c094476-9372-4ec2-91ad-be9fa917ef4d",
   "metadata": {},
   "source": [
    "PaNOSC Search Scoring"
   ]
  },
  {
   "cell_type": "markdown",
   "id": "c55a49a3-be02-4f0d-b139-ef374428434b",
   "metadata": {},
   "source": [
    "```bash\n",
    "> curl http://pss.localhost\n",
    "\n",
    "{\n",
    " \"application\":\"PSS\",\n",
    " \"description\":\"PaNOSC search scoring\",\n",
    " \"version\":\"v1.0-alpha\",\n",
    " \"started-time\":\"2021-12-13T13:02:51.552038\",\n",
    " \"current-time\":\"2021-12-13T13:11:18.666874\",\n",
    " \"uptime\":\"0:08:27.114836\"\n",
    "}\n",
    "```"
   ]
  },
  {
   "cell_type": "code",
   "execution_count": null,
   "id": "70f8e150-3f67-4ace-ab95-4da6ce5c4b37",
   "metadata": {},
   "outputs": [],
   "source": []
  }
 ],
 "metadata": {
  "kernelspec": {
   "display_name": "Python 3 (ipykernel)",
   "language": "python",
   "name": "python3"
  },
  "language_info": {
   "codemirror_mode": {
    "name": "ipython",
    "version": 3
   },
   "file_extension": ".py",
   "mimetype": "text/x-python",
   "name": "python",
   "nbconvert_exporter": "python",
   "pygments_lexer": "ipython3",
   "version": "3.8.11"
  }
 },
 "nbformat": 4,
 "nbformat_minor": 5
}
