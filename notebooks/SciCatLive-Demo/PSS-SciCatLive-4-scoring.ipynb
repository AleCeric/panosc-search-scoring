{
 "cells": [
  {
   "cell_type": "markdown",
   "id": "fb938a2b-c423-421d-aafd-5291213bc020",
   "metadata": {},
   "source": [
    "# PSS SciCatLive 4: scoring\n",
    "## PaNOSC Search Scoring Workshop, Part 4\n",
    "## SciCatLive PANOSC Search Scoring, scoring entries against a query\n",
    "\n",
    "This notebook shows how score the items against a query.  \n",
    "It assumes that you have the SciCatLive running on your machine and that you already run the previous three notebooks: \n",
    "- **PSS SciCatLive 1 populating**\n",
    "- **PSS SciCatLive 2 weight computing**\n",
    "- **PSS SciCatLive 3 managing**\n",
    "\n",
    "This notebook leverages the *score* endpoint\n",
    "\n",
    "\n",
    "**Important**: all the current items and weights already present in the database will be deleted.\n",
    "\n",
    "**Disclaimer**:  \n",
    "This notebook has been prepared within the context  of the PaNOSC Scoring Workshop.  \n",
    "It is provided it as is, although you are free to re-use it for other purposed and modified it as you need.   \n",
    "By using this notebook, you are releasing ESS and its team from any responsability."
   ]
  },
  {
   "cell_type": "code",
   "execution_count": null,
   "id": "66df91c2-7eb0-422d-822d-88ea959048cf",
   "metadata": {
    "tags": []
   },
   "outputs": [],
   "source": [
    "%run PSS-SciCatLive-common.ipynb"
   ]
  },
  {
   "cell_type": "markdown",
   "id": "c1d0a639-8ca5-4e57-9e31-91787cfd8f61",
   "metadata": {},
   "source": [
    "## Query 1"
   ]
  },
  {
   "cell_type": "markdown",
   "id": "7a6d56fa-2456-4419-b746-0945e63f1239",
   "metadata": {},
   "source": [
    "The relevancy score is computed against a specific query"
   ]
  },
  {
   "cell_type": "markdown",
   "id": "1087217e-3a67-4fe1-bd7b-510f00783c19",
   "metadata": {},
   "source": [
    "We would like to find the documents that are most relevant to the query:  \n",
    "**tomographic extent**"
   ]
  },
  {
   "cell_type": "markdown",
   "id": "70594be1-2d09-41ed-b6ea-04817645627a",
   "metadata": {},
   "source": [
    "This is the score endpoint for SciCat backend in SciCatLive"
   ]
  },
  {
   "cell_type": "code",
   "execution_count": null,
   "id": "683471cd-60fb-4c3c-a719-1cd38e0f76c6",
   "metadata": {},
   "outputs": [],
   "source": [
    "pss_score_url"
   ]
  },
  {
   "cell_type": "markdown",
   "id": "fc602696-a40d-4a24-b0aa-006932fc1027",
   "metadata": {},
   "source": [
    "We would like all the items scored independently from the group they belong to"
   ]
  },
  {
   "cell_type": "code",
   "execution_count": null,
   "id": "d6e355cb-5383-4b91-a4ea-7b540b00adb9",
   "metadata": {},
   "outputs": [],
   "source": [
    "res = requests.post(\n",
    "    pss_score_url,\n",
    "    json={\n",
    "        \"query\" : \"tomographic and extent five\"\n",
    "    }\n",
    ")"
   ]
  },
  {
   "cell_type": "code",
   "execution_count": null,
   "id": "c757ea88-0dc3-4e28-bee3-8bfdc503d862",
   "metadata": {},
   "outputs": [],
   "source": [
    "res"
   ]
  },
  {
   "cell_type": "code",
   "execution_count": null,
   "id": "0bede0ef-845d-43d3-ae1b-22006fb2218a",
   "metadata": {},
   "outputs": [],
   "source": [
    "response = res.json()"
   ]
  },
  {
   "cell_type": "markdown",
   "id": "f060c980-e5ce-4f6f-bc5e-509fe232a6ee",
   "metadata": {},
   "source": [
    "The response has the following structure:\n",
    "```json\n",
    "{\n",
    "    'request' : {\n",
    "        'query': 'tomographic extent five',\n",
    "        'itemIds': [],\n",
    "        'group': '',\n",
    "        'limit': -1\n",
    "    },\n",
    "    'query': {\n",
    "        'query': 'tomographic extent five',\n",
    "        'terms': ['tomograph', 'extent', 'five']\n",
    "    },\n",
    "    'scores': [ \n",
    "        {\n",
    "            'itemId': ...,\n",
    "            'score': ...,\n",
    "            'group': ...\n",
    "        },\n",
    "        ...\n",
    "    ],\n",
    "    'dimension': ..,\n",
    "    'computeInProgress': True/False,\n",
    "    'started': '2021-12-13T14:08:38.479001',\n",
    "    'ended': '2021-12-13T14:08:38.496696'\n",
    "}\n",
    "```"
   ]
  },
  {
   "cell_type": "code",
   "execution_count": null,
   "id": "bf059193-436f-4076-b595-d9e24ef4263d",
   "metadata": {},
   "outputs": [],
   "source": [
    "response"
   ]
  },
  {
   "cell_type": "markdown",
   "id": "75fc8645-71c3-44d0-9489-89ade7041aa6",
   "metadata": {},
   "source": [
    "Number of items scored"
   ]
  },
  {
   "cell_type": "code",
   "execution_count": null,
   "id": "d0b7cca2-9a87-4346-8f22-c5da4eaec943",
   "metadata": {},
   "outputs": [],
   "source": [
    "response['dimension']"
   ]
  },
  {
   "cell_type": "markdown",
   "id": "72a6fec0-027e-4d9a-b3cc-a53a36450761",
   "metadata": {},
   "source": [
    "Is a weights computation currently in progress"
   ]
  },
  {
   "cell_type": "code",
   "execution_count": null,
   "id": "6c4c7ff3-d1b5-40f8-94d2-9dcfc8781c57",
   "metadata": {},
   "outputs": [],
   "source": [
    "response['computeInProgress']"
   ]
  },
  {
   "cell_type": "markdown",
   "id": "cd8a5a50-1332-4be7-b80d-13f6be7e0161",
   "metadata": {},
   "source": [
    "Items returned and associated scores"
   ]
  },
  {
   "cell_type": "code",
   "execution_count": null,
   "id": "596e8550-3894-4f7d-b6af-38f30544e89e",
   "metadata": {},
   "outputs": [],
   "source": [
    "for item in response['scores']:\n",
    "    print(\"{:10} {:30} : {}\".format(item[\"group\"],item[\"itemId\"],item[\"score\"]))"
   ]
  },
  {
   "cell_type": "markdown",
   "id": "c5835cda-5fd1-4bd4-abd0-cb4e63326352",
   "metadata": {},
   "source": [
    "## Query 2"
   ]
  },
  {
   "cell_type": "markdown",
   "id": "c244f87d-95e5-43ab-a2f5-01459c7cd556",
   "metadata": {},
   "source": [
    "We would like to find the documents that are most relevant to the query:  \n",
    "**cheetah beamenergy post**"
   ]
  },
  {
   "cell_type": "markdown",
   "id": "5665cca2-4823-452e-83e2-eb4333d8b765",
   "metadata": {},
   "source": [
    "We would like all the items scored independently from the group they belong to"
   ]
  },
  {
   "cell_type": "code",
   "execution_count": null,
   "id": "9d8fd146-1eb0-4445-a8fb-db6d4b507781",
   "metadata": {},
   "outputs": [],
   "source": [
    "res = requests.post(\n",
    "    pss_score_url,\n",
    "    json={\n",
    "        \"query\" : \"Cheetah and beamenergy and post\"\n",
    "    }\n",
    ")"
   ]
  },
  {
   "cell_type": "code",
   "execution_count": null,
   "id": "65be3c3b-2380-4688-a053-5b4a4b5977f7",
   "metadata": {},
   "outputs": [],
   "source": [
    "res"
   ]
  },
  {
   "cell_type": "code",
   "execution_count": null,
   "id": "ec14fbf0-daf6-4357-9f33-bdd6cfd6ccc2",
   "metadata": {},
   "outputs": [],
   "source": [
    "response = res.json()"
   ]
  },
  {
   "cell_type": "markdown",
   "id": "3d8335f6-554d-4c46-94ad-38c46981c7a9",
   "metadata": {},
   "source": [
    "Number of items scored"
   ]
  },
  {
   "cell_type": "code",
   "execution_count": null,
   "id": "9de45be8-7ede-427d-a238-d022f62cd897",
   "metadata": {},
   "outputs": [],
   "source": [
    "response['dimension']"
   ]
  },
  {
   "cell_type": "markdown",
   "id": "d2039011-e583-4ccd-b059-a62b058f6f1b",
   "metadata": {},
   "source": [
    "Items returned and associated scores"
   ]
  },
  {
   "cell_type": "code",
   "execution_count": null,
   "id": "f5b41f02-abba-4a96-ab85-7d4b66e2f3be",
   "metadata": {},
   "outputs": [],
   "source": [
    "for item in response['scores']:\n",
    "    print(\"{:10} {:30} : {}\".format(item[\"group\"],item[\"itemId\"],item[\"score\"]))"
   ]
  },
  {
   "cell_type": "markdown",
   "id": "ee80cdaf-75e6-474a-b3c2-a005fdf29485",
   "metadata": {},
   "source": [
    "## Query 3"
   ]
  },
  {
   "cell_type": "markdown",
   "id": "42cf6fec-8c71-4634-92d5-8fc41691e278",
   "metadata": {},
   "source": [
    "We would like to run the same query as in **Query 2** but limit the results to the group **Datasets** and retrieve only 4 results"
   ]
  },
  {
   "cell_type": "markdown",
   "id": "cbf41064-581f-48c8-9d54-fc24fdc7ffd1",
   "metadata": {},
   "source": [
    "Here is the request with the correct json structure"
   ]
  },
  {
   "cell_type": "code",
   "execution_count": null,
   "id": "4ff2bdb3-4957-458f-b36e-073a417d2548",
   "metadata": {},
   "outputs": [],
   "source": [
    "res = requests.post(\n",
    "    pss_score_url,\n",
    "    json={\n",
    "        \"query\" : \"Cheetah beamenergy post\",\n",
    "        \"group\" : \"datasets\",\n",
    "        \"limit\" : 4\n",
    "    }\n",
    ")"
   ]
  },
  {
   "cell_type": "code",
   "execution_count": null,
   "id": "4d680d22-b0a6-4a31-9302-ecc2d8b71071",
   "metadata": {},
   "outputs": [],
   "source": [
    "res"
   ]
  },
  {
   "cell_type": "code",
   "execution_count": null,
   "id": "523d2517-072f-4491-8286-6effc98c8aad",
   "metadata": {},
   "outputs": [],
   "source": [
    "response = res.json()"
   ]
  },
  {
   "cell_type": "markdown",
   "id": "02de69c0-9783-419f-bc7d-d6888cf53602",
   "metadata": {},
   "source": [
    "Number of items scored"
   ]
  },
  {
   "cell_type": "code",
   "execution_count": null,
   "id": "187fd52e-f65c-4424-89dd-784a12041c7f",
   "metadata": {},
   "outputs": [],
   "source": [
    "response['dimension']"
   ]
  },
  {
   "cell_type": "markdown",
   "id": "520f025e-7431-4bdd-a9ce-f5c62af38fb7",
   "metadata": {},
   "source": [
    "Items returned and associated scores"
   ]
  },
  {
   "cell_type": "code",
   "execution_count": null,
   "id": "d8cd8442-1f06-4b97-8cad-301fded16145",
   "metadata": {},
   "outputs": [],
   "source": [
    "for item in response['scores']:\n",
    "    print(\"{:10} {:30} : {}\".format(item[\"group\"],item[\"itemId\"],item[\"score\"]))"
   ]
  },
  {
   "cell_type": "code",
   "execution_count": null,
   "id": "70f8e150-3f67-4ace-ab95-4da6ce5c4b37",
   "metadata": {},
   "outputs": [],
   "source": []
  }
 ],
 "metadata": {
  "kernelspec": {
   "display_name": "Python 3 (ipykernel)",
   "language": "python",
   "name": "python3"
  },
  "language_info": {
   "codemirror_mode": {
    "name": "ipython",
    "version": 3
   },
   "file_extension": ".py",
   "mimetype": "text/x-python",
   "name": "python",
   "nbconvert_exporter": "python",
   "pygments_lexer": "ipython3",
   "version": "3.8.11"
  }
 },
 "nbformat": 4,
 "nbformat_minor": 5
}
