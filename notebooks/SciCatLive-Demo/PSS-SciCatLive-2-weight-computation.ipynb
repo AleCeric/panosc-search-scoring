{
 "cells": [
  {
   "cell_type": "markdown",
   "id": "fb938a2b-c423-421d-aafd-5291213bc020",
   "metadata": {},
   "source": [
    "# PSS SciCatLive populating 2: weights computation\n",
    "## PaNOSC Search Scoring Workshop, Part 2\n",
    "## SciCatLive PaNOSC Search Scoring, triggering weights computation\n",
    "\n",
    "This notebook shows how trigger the weights computation in the PaNOSC Search Scoring (PSS) on the scoring information for the items that have been populated in the the first notebook: **PSS ScitcatLive 1 populating**.  \n",
    "It assumes that you have the SciCatLive running on your machine.  \n",
    "\n",
    "This notebook leverages the **compute** endpoint pf PSS.\n",
    "\n",
    "**Important**: all the current items and weights already present in the database will be deleted.\n",
    "\n",
    "**Disclaimer**:  \n",
    "This notebook has been prepared within the context  of the PaNOSC Scoring Workshop.  \n",
    "It is provided it as is, although you are free to re-use it for other purposed and modified it as you need.   \n",
    "By using this notebook, you are releasing ESS and its team from any responsability."
   ]
  },
  {
   "cell_type": "code",
   "execution_count": null,
   "id": "66df91c2-7eb0-422d-822d-88ea959048cf",
   "metadata": {
    "tags": []
   },
   "outputs": [],
   "source": [
    "%run PSS-SciCatLive-common.ipynb"
   ]
  },
  {
   "cell_type": "markdown",
   "id": "caf40d97-51e3-4caf-bb62-ec1af485b988",
   "metadata": {},
   "source": [
    "### Triggering a weights computation"
   ]
  },
  {
   "cell_type": "markdown",
   "id": "14064fc7-04a1-4326-bf31-4ce935ddbd49",
   "metadata": {},
   "source": [
    "This is the endpoint used to trigger and check the computation status"
   ]
  },
  {
   "cell_type": "code",
   "execution_count": null,
   "id": "0d57eacf-e66b-497f-bedb-f37aaf00ae1c",
   "metadata": {},
   "outputs": [],
   "source": [
    "pss_compute_url"
   ]
  },
  {
   "cell_type": "markdown",
   "id": "6c0f3613-5e18-43ad-9a32-15ed118e3f45",
   "metadata": {},
   "source": [
    "Trigger weight computations with a post on the compute endpoint"
   ]
  },
  {
   "cell_type": "code",
   "execution_count": null,
   "id": "62234348-65e4-42d4-aa93-13379e5a01dd",
   "metadata": {},
   "outputs": [],
   "source": [
    "res = requests.post(pss_compute_url)"
   ]
  },
  {
   "cell_type": "markdown",
   "id": "d433fb2e-e006-4639-8c6d-50e3fe19ca79",
   "metadata": {},
   "source": [
    "If the request is successful, we should get a response with status code 200"
   ]
  },
  {
   "cell_type": "code",
   "execution_count": null,
   "id": "828f6f37-6600-4c7b-b89e-e720b73497ed",
   "metadata": {},
   "outputs": [],
   "source": [
    "res"
   ]
  },
  {
   "cell_type": "code",
   "execution_count": null,
   "id": "038d5b4b-080a-423b-a3db-8f9416aee07c",
   "metadata": {},
   "outputs": [],
   "source": [
    "res.json()"
   ]
  },
  {
   "cell_type": "markdown",
   "id": "6fe32c97-56ac-4793-bfe5-d87a4142b9e0",
   "metadata": {},
   "source": [
    "The response received from the scoring system informs us that the request has been submitted and received, but not yet started."
   ]
  },
  {
   "cell_type": "markdown",
   "id": "96e3ef0a-42f5-4dc7-9d9d-4326173d8f86",
   "metadata": {},
   "source": [
    "### Checking status of weights computation"
   ]
  },
  {
   "cell_type": "markdown",
   "id": "b1bd923b-f5d0-4992-9c58-90d399535627",
   "metadata": {},
   "source": [
    "A get request to the compute endpoint, returns the computation status.  \n",
    "*We suggest to wait a little bit and than place the request below.*"
   ]
  },
  {
   "cell_type": "code",
   "execution_count": null,
   "id": "bdb5e46e-5c9b-4a60-81b0-695d20549166",
   "metadata": {},
   "outputs": [],
   "source": [
    "res = requests.get(pss_compute_url)"
   ]
  },
  {
   "cell_type": "markdown",
   "id": "2902ea6a-0e3a-45c9-bf3e-95cb7dcfc056",
   "metadata": {},
   "source": [
    "If the compute status request is successful, the status code returned is 200"
   ]
  },
  {
   "cell_type": "code",
   "execution_count": null,
   "id": "5f997913-366c-49a3-bda0-b4b712c796e8",
   "metadata": {},
   "outputs": [],
   "source": [
    "res"
   ]
  },
  {
   "cell_type": "code",
   "execution_count": null,
   "id": "79e814ab-0185-48fd-9133-2601f1fdc853",
   "metadata": {},
   "outputs": [],
   "source": [
    "res.json()"
   ]
  },
  {
   "cell_type": "markdown",
   "id": "a1cfb5ec-57c4-456c-808b-0e609e08dab2",
   "metadata": {},
   "source": [
    "Computation is done, when all three timestamps fields are assigned and progress is set to 1.0.  \n",
    "It should look something like the following info:  \n",
    "`    {`  \n",
    "`      'requested': '2021-09-28T15:56:19.451171',`  \n",
    "`      'started': '2021-09-28T15:56:24.468000',`  \n",
    "`      'ended': '2021-09-28T15:57:00.753000',`  \n",
    "`      'progressPercent': 1.0,`  \n",
    "`      'progressDescription': 'Done',`  \n",
    "`      'inProgress': False`  \n",
    "`    }`  \n"
   ]
  },
  {
   "cell_type": "code",
   "execution_count": null,
   "id": "70f8e150-3f67-4ace-ab95-4da6ce5c4b37",
   "metadata": {},
   "outputs": [],
   "source": []
  }
 ],
 "metadata": {
  "kernelspec": {
   "display_name": "Python 3 (ipykernel)",
   "language": "python",
   "name": "python3"
  },
  "language_info": {
   "codemirror_mode": {
    "name": "ipython",
    "version": 3
   },
   "file_extension": ".py",
   "mimetype": "text/x-python",
   "name": "python",
   "nbconvert_exporter": "python",
   "pygments_lexer": "ipython3",
   "version": "3.8.11"
  }
 },
 "nbformat": 4,
 "nbformat_minor": 5
}
