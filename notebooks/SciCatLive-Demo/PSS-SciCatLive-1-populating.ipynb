{
 "cells": [
  {
   "cell_type": "markdown",
   "id": "fb938a2b-c423-421d-aafd-5291213bc020",
   "metadata": {},
   "source": [
    "# PSS SciCatLive 1: populating\n",
    "## PaNOSC Search Scoring Workshop, Part 1\n",
    "## SciCatLive integration between SciCat backend and PaNOSC Search Scoring\n",
    "\n",
    "This notebook shows how to extract items from the local catalogue system, and populate the PaNOSC Search Scoring (PSS) with the items to be scored.  \n",
    "It assumes that you have the SciCatLive running on your machine.  \n",
    "\n",
    "Two groups of elements are extracted and imported in PSS: \n",
    "- datasets \n",
    "- documents.  \n",
    "Those groups match the two type of items that needs to be scored and are provided by the PaNOSC Search API to the PaNOSC Federated Search\n",
    "\n",
    "**Important**: all the current items and weights already present in the database will be deleted.\n",
    "\n",
    "**Disclaimer**:  \n",
    "This notebook has been prepared within the context  of the PaNOSC Scoring Workshop.  \n",
    "It is provided it as is, although you are free to re-use it for other purposed and modified it as you need.   \n",
    "By using this notebook, you are releasing ESS and its team from any responsability."
   ]
  },
  {
   "cell_type": "code",
   "execution_count": null,
   "id": "66df91c2-7eb0-422d-822d-88ea959048cf",
   "metadata": {
    "tags": []
   },
   "outputs": [],
   "source": [
    "%run PSS-SciCatLive-common.ipynb"
   ]
  },
  {
   "cell_type": "markdown",
   "id": "c1d0a639-8ca5-4e57-9e31-91787cfd8f61",
   "metadata": {},
   "source": [
    "## Retrieve datasets and documents from SciCat backend running in SciCatLive"
   ]
  },
  {
   "cell_type": "markdown",
   "id": "7a6d56fa-2456-4419-b746-0945e63f1239",
   "metadata": {},
   "source": [
    "Login in scicat backend.  \n",
    "Send request to login backend with username and password.\n",
    "Retrieve JWT token to be used as authentication token in each request"
   ]
  },
  {
   "cell_type": "markdown",
   "id": "70594be1-2d09-41ed-b6ea-04817645627a",
   "metadata": {},
   "source": [
    "This is the login endpoint for SciCat backend in SciCatLive"
   ]
  },
  {
   "cell_type": "code",
   "execution_count": null,
   "id": "683471cd-60fb-4c3c-a719-1cd38e0f76c6",
   "metadata": {},
   "outputs": [],
   "source": [
    "sc_login_url"
   ]
  },
  {
   "cell_type": "code",
   "execution_count": null,
   "id": "0fb42a45-a9a8-46df-bd47-c13a0d848bcf",
   "metadata": {},
   "outputs": [],
   "source": [
    "res = requests.post(\n",
    "    sc_login_url,\n",
    "    json={\n",
    "        'username' : username,\n",
    "        'password' : password\n",
    "    }\n",
    ")"
   ]
  },
  {
   "cell_type": "markdown",
   "id": "e56ad861-da38-464f-bb01-913b950f5ac9",
   "metadata": {},
   "source": [
    "Successfull response should report a status code of 200 "
   ]
  },
  {
   "cell_type": "code",
   "execution_count": null,
   "id": "b331d3fe-2842-438f-b70d-64d023a20f31",
   "metadata": {},
   "outputs": [],
   "source": [
    "res"
   ]
  },
  {
   "cell_type": "markdown",
   "id": "43c491dd-2d05-469e-a9a7-0bdf86da3e20",
   "metadata": {},
   "source": [
    "Extract user id and access token from response"
   ]
  },
  {
   "cell_type": "code",
   "execution_count": null,
   "id": "75c81989-f1a4-443c-98fc-358f04e26c88",
   "metadata": {},
   "outputs": [],
   "source": [
    "json_res = res.json()"
   ]
  },
  {
   "cell_type": "code",
   "execution_count": null,
   "id": "4f31de34-d2fe-4d4f-9f32-4f9e6f8c0316",
   "metadata": {},
   "outputs": [],
   "source": [
    "access_token = json_res['access_token'] if 'access_token' in json_res.keys() else json_res['id']\n",
    "user_id = json_res['userId']"
   ]
  },
  {
   "cell_type": "code",
   "execution_count": null,
   "id": "1de99695-d080-40c7-b30e-ed32df083ac7",
   "metadata": {},
   "outputs": [],
   "source": [
    "print(\"User id : {}\".format(user_id))\n",
    "print(\"Token   : {}\".format(access_token))"
   ]
  },
  {
   "cell_type": "markdown",
   "id": "a15ab230-b13c-46ed-a6d3-d1f48f043aa0",
   "metadata": {},
   "source": [
    "#### Retrieve all datasets available and refactor them to be inserted in the scoring system"
   ]
  },
  {
   "cell_type": "code",
   "execution_count": null,
   "id": "d6e355cb-5383-4b91-a4ea-7b540b00adb9",
   "metadata": {},
   "outputs": [],
   "source": [
    "res = requests.get(\n",
    "    sc_datasets_url,\n",
    "    headers={\n",
    "        'Authorization' : 'Bearer ' + access_token\n",
    "    }\n",
    ")"
   ]
  },
  {
   "cell_type": "code",
   "execution_count": null,
   "id": "0bede0ef-845d-43d3-ae1b-22006fb2218a",
   "metadata": {},
   "outputs": [],
   "source": [
    "raw_datasets = res.json()"
   ]
  },
  {
   "cell_type": "markdown",
   "id": "75fc8645-71c3-44d0-9489-89ade7041aa6",
   "metadata": {},
   "source": [
    "Number of datasets retrieved from SciCat backend"
   ]
  },
  {
   "cell_type": "code",
   "execution_count": null,
   "id": "d0b7cca2-9a87-4346-8f22-c5da4eaec943",
   "metadata": {},
   "outputs": [],
   "source": [
    "len(raw_datasets)"
   ]
  },
  {
   "cell_type": "markdown",
   "id": "72a6fec0-027e-4d9a-b3cc-a53a36450761",
   "metadata": {},
   "source": [
    "List of fields in the first item"
   ]
  },
  {
   "cell_type": "code",
   "execution_count": null,
   "id": "6c4c7ff3-d1b5-40f8-94d2-9dcfc8781c57",
   "metadata": {},
   "outputs": [],
   "source": [
    "list(raw_datasets[0].keys())"
   ]
  },
  {
   "cell_type": "markdown",
   "id": "cd8a5a50-1332-4be7-b80d-13f6be7e0161",
   "metadata": {},
   "source": [
    "Prepare dataset items to be inserted in the scoring service.  \n",
    "Each dataset items contains the scoring information under the *field* key"
   ]
  },
  {
   "cell_type": "code",
   "execution_count": null,
   "id": "596e8550-3894-4f7d-b6af-38f30544e89e",
   "metadata": {},
   "outputs": [],
   "source": [
    "datasets_items = [\n",
    "    {\n",
    "        'id' : item['pid'],\n",
    "        'group' : 'datasets',\n",
    "        'fields' : prepFields(item,'datasets')\n",
    "    }\n",
    "    for item \n",
    "    in raw_datasets\n",
    "]"
   ]
  },
  {
   "cell_type": "markdown",
   "id": "d5156376-31de-43f1-a6dc-d810114573d9",
   "metadata": {},
   "source": [
    "Number of items in group Datasets to be inserted in scoring system"
   ]
  },
  {
   "cell_type": "code",
   "execution_count": null,
   "id": "8726be3b-5044-4e96-8285-23ef66595f57",
   "metadata": {
    "tags": []
   },
   "outputs": [],
   "source": [
    "len(datasets_items)"
   ]
  },
  {
   "cell_type": "code",
   "execution_count": null,
   "id": "237f4b41-a0c8-4999-941c-941e2a1582f5",
   "metadata": {},
   "outputs": [],
   "source": [
    "datasets_items[0]"
   ]
  },
  {
   "cell_type": "markdown",
   "id": "d9cb74d0-044d-4f22-8681-7d3b9871b818",
   "metadata": {},
   "source": [
    "#### Retrieve all proposals available and refactor them to be inserted in the scoring system"
   ]
  },
  {
   "cell_type": "code",
   "execution_count": null,
   "id": "329f16f9-a470-49e3-9deb-100105687ddb",
   "metadata": {},
   "outputs": [],
   "source": [
    "res = requests.get(\n",
    "    sc_proposals_url + '?access_token=' + access_token\n",
    ")"
   ]
  },
  {
   "cell_type": "code",
   "execution_count": null,
   "id": "e5e80abd-d956-48db-a737-c1b44fbee160",
   "metadata": {},
   "outputs": [],
   "source": [
    "res"
   ]
  },
  {
   "cell_type": "code",
   "execution_count": null,
   "id": "74867ad8-4097-4542-9685-4308ae869989",
   "metadata": {},
   "outputs": [],
   "source": [
    "raw_proposals = res.json()"
   ]
  },
  {
   "cell_type": "markdown",
   "id": "4e897fce-35d3-466a-bbaa-40f6fedbc9b6",
   "metadata": {},
   "source": [
    "List of fields in the first item"
   ]
  },
  {
   "cell_type": "code",
   "execution_count": null,
   "id": "6bb4337d-c8de-4617-ada2-f129554dd0f3",
   "metadata": {},
   "outputs": [],
   "source": [
    "list(raw_proposals[0].keys())"
   ]
  },
  {
   "cell_type": "markdown",
   "id": "c6d0e433-1f43-49b6-9c69-26d9bbd6b8be",
   "metadata": {},
   "source": [
    "Prepare proposals items to be inserted in the scoring service"
   ]
  },
  {
   "cell_type": "code",
   "execution_count": null,
   "id": "212e7d6f-9268-49a4-9fbd-a8ea8db4e2ae",
   "metadata": {},
   "outputs": [],
   "source": [
    "proposals_items = [\n",
    "    {\n",
    "        'id' : item['proposalId'],\n",
    "        'group' : 'proposals',\n",
    "        'fields' : prepFields(item,'proposals')\n",
    "    }\n",
    "    for item \n",
    "    in raw_proposals\n",
    "]"
   ]
  },
  {
   "cell_type": "markdown",
   "id": "339b3b7b-426f-4f37-be36-00231495ba62",
   "metadata": {},
   "source": [
    "Number of items in group Proposals to be inserted in scoring system"
   ]
  },
  {
   "cell_type": "code",
   "execution_count": null,
   "id": "05f29c38-e602-4113-901a-3407e154996b",
   "metadata": {
    "tags": []
   },
   "outputs": [],
   "source": [
    "len(proposals_items)"
   ]
  },
  {
   "cell_type": "markdown",
   "id": "2f4ed6c6-c3c9-45c0-b156-48bd7a4f73b7",
   "metadata": {},
   "source": [
    "#### Delete all the current items in the scoring system\n",
    "During normal operation, we would not know if there are any items in the scoring system.  \n",
    "Given that the scoring uses ids from the catalogue, instead of checking and updating each item individually, it is faster to delete everything and insert them once more.\n",
    "\n",
    "In the context of the PaNOSC Scoring Workshop, if you are running this for the first time, the scoring system should be empty, so no item should be deleted."
   ]
  },
  {
   "cell_type": "markdown",
   "id": "fda93620-5b41-48f0-9fd8-61f0c0335d10",
   "metadata": {},
   "source": [
    "At the moment there is no endpoint for deleting all the items or all the items belonging to a single group.   \n",
    "We need to retrieve all the items and deleted them one by one."
   ]
  },
  {
   "cell_type": "code",
   "execution_count": null,
   "id": "8c191714-d095-4d77-96c6-a8bfaeb31ad8",
   "metadata": {},
   "outputs": [],
   "source": [
    "res = requests.get(pss_items_url + \"/count\")"
   ]
  },
  {
   "cell_type": "code",
   "execution_count": null,
   "id": "ba7a5d97-4f32-4e52-b650-93531eab9dd0",
   "metadata": {},
   "outputs": [],
   "source": [
    "count = res.json()['count']\n",
    "count"
   ]
  },
  {
   "cell_type": "code",
   "execution_count": null,
   "id": "05d1c4ce-97fe-490a-aa3e-5fd9418f7dfb",
   "metadata": {},
   "outputs": [],
   "source": [
    "res = requests.get(\n",
    "    pss_items_url,\n",
    "    params={\n",
    "        'limit': count\n",
    "    }\n",
    ")"
   ]
  },
  {
   "cell_type": "code",
   "execution_count": null,
   "id": "b4a3ec4a-65ec-422c-b7f5-4d7d1fa124bc",
   "metadata": {},
   "outputs": [],
   "source": [
    "current_items = res.json() if count else []"
   ]
  },
  {
   "cell_type": "code",
   "execution_count": null,
   "id": "dc3efb58-986c-4da5-b66a-a20dc218e941",
   "metadata": {},
   "outputs": [],
   "source": [
    "len(current_items)"
   ]
  },
  {
   "cell_type": "code",
   "execution_count": null,
   "id": "b2cc608e-f7b0-400b-9424-9c6a8b47aa7e",
   "metadata": {},
   "outputs": [],
   "source": [
    "delete_res = []\n",
    "for item in current_items:\n",
    "    res = requests.delete(\n",
    "        '/'.join([\n",
    "            pss_items_url,\n",
    "            item['id']\n",
    "        ])\n",
    "    )\n",
    "    delete_res.append(res.status_code)\n"
   ]
  },
  {
   "cell_type": "markdown",
   "id": "1978b2d3-0941-41a1-ad60-e18c4ac7eb27",
   "metadata": {},
   "source": [
    "Makes sure that all the deletes have been successfull. \n",
    "We should see only one value matching status code 200."
   ]
  },
  {
   "cell_type": "code",
   "execution_count": null,
   "id": "3517b816-4646-47b4-927d-f744db58a9dc",
   "metadata": {},
   "outputs": [],
   "source": [
    "set(delete_res)"
   ]
  },
  {
   "cell_type": "markdown",
   "id": "af5f6756-23e9-4c58-a2c5-40e52831561f",
   "metadata": {},
   "source": [
    "### Populate items in scoring service\n",
    "We are inserting both dataset and proposal items.  \n",
    "\n",
    "First we check if we have any items in the system right now."
   ]
  },
  {
   "cell_type": "code",
   "execution_count": null,
   "id": "97347f6a-9211-4a0b-a628-8f4901c1cdaf",
   "metadata": {},
   "outputs": [],
   "source": [
    "res = requests.get(pss_items_url + '/count')"
   ]
  },
  {
   "cell_type": "markdown",
   "id": "728e08bc-5bd4-4d35-b49e-0bedd77e5572",
   "metadata": {},
   "source": [
    "We should have zero items in the scoring system, given that the system has just been deployed"
   ]
  },
  {
   "cell_type": "code",
   "execution_count": null,
   "id": "c509123f-1b57-4a49-bfa9-1047c4ffd1ac",
   "metadata": {},
   "outputs": [],
   "source": [
    "count = res.json()['count']\n",
    "count"
   ]
  },
  {
   "cell_type": "markdown",
   "id": "53bc080b-3250-4946-b07a-0721fd41e100",
   "metadata": {},
   "source": [
    "Insert datasets items.  \n",
    "Status code returned should be 201 for successful operation"
   ]
  },
  {
   "cell_type": "code",
   "execution_count": null,
   "id": "1fd33626-f291-4e47-88c1-79bdb5f551bc",
   "metadata": {},
   "outputs": [],
   "source": [
    "res = requests.post(\n",
    "    pss_items_url,\n",
    "    json=datasets_items\n",
    ")"
   ]
  },
  {
   "cell_type": "code",
   "execution_count": null,
   "id": "153ff556-fdfa-4da5-a81a-7f9da1a3aa05",
   "metadata": {},
   "outputs": [],
   "source": [
    "res"
   ]
  },
  {
   "cell_type": "markdown",
   "id": "5293af73-1356-448d-abe4-9cd5500ed7f0",
   "metadata": {},
   "source": [
    "Insert proposal items.\n",
    "Same as for datasets, returned code should be 201."
   ]
  },
  {
   "cell_type": "code",
   "execution_count": null,
   "id": "c94de832-6d4d-4cb8-bd9f-7353f9e4fd7d",
   "metadata": {},
   "outputs": [],
   "source": [
    "res = requests.post(\n",
    "    pss_items_url,\n",
    "    json=proposals_items\n",
    ")"
   ]
  },
  {
   "cell_type": "code",
   "execution_count": null,
   "id": "e3e01a2f-6aaf-4512-84b7-3324e9bde6e3",
   "metadata": {},
   "outputs": [],
   "source": [
    "res"
   ]
  },
  {
   "cell_type": "markdown",
   "id": "1ef97c12-b18a-48e1-9c66-b80e60a7fe39",
   "metadata": {},
   "source": [
    "Let's verify that all our items have been created.  \n",
    "First we request a count of the items, than we verify that we retrieve all the items.  "
   ]
  },
  {
   "cell_type": "code",
   "execution_count": null,
   "id": "5a09c7d4-3712-4ffa-940b-c17a7a287eac",
   "metadata": {},
   "outputs": [],
   "source": [
    "res = requests.get(pss_items_url + '/count')"
   ]
  },
  {
   "cell_type": "code",
   "execution_count": null,
   "id": "47d66c57-7e64-481a-a83d-3b894d4748bc",
   "metadata": {},
   "outputs": [],
   "source": [
    "count = res.json()['count']\n",
    "print(\"There are {} items in the scoring service\".format(count))"
   ]
  },
  {
   "cell_type": "markdown",
   "id": "493a2f22-e1a6-445f-a6a1-3dc578664f9c",
   "metadata": {},
   "source": [
    "Now, we retrieve all the items and check if we they are the right number and there are the two groups:   \n",
    "Datasets and Documents"
   ]
  },
  {
   "cell_type": "code",
   "execution_count": null,
   "id": "1aac4791-8fbb-4ac9-9080-8cdf62e091f9",
   "metadata": {},
   "outputs": [],
   "source": [
    "res = requests.get(pss_items_url + \"?limit=\" + str(count+100))"
   ]
  },
  {
   "cell_type": "code",
   "execution_count": null,
   "id": "ded706f3-0ee5-4b8f-b10b-3f4faf9b77be",
   "metadata": {},
   "outputs": [],
   "source": [
    "items = res.json()"
   ]
  },
  {
   "cell_type": "markdown",
   "id": "cf74ec46-0288-4189-ba5d-d3c681814ad1",
   "metadata": {},
   "source": [
    "Here is the first item retrieved"
   ]
  },
  {
   "cell_type": "code",
   "execution_count": null,
   "id": "bd85b693-9b62-485f-87e9-f22a39296498",
   "metadata": {},
   "outputs": [],
   "source": [
    "items[0]"
   ]
  },
  {
   "cell_type": "code",
   "execution_count": null,
   "id": "534483c3-0f8c-4287-bb68-20e1b3949699",
   "metadata": {},
   "outputs": [],
   "source": [
    "print(\"All items are grouped in the following groups: {}\".format(set([item['group'] for item in items])))"
   ]
  },
  {
   "cell_type": "code",
   "execution_count": null,
   "id": "70f8e150-3f67-4ace-ab95-4da6ce5c4b37",
   "metadata": {},
   "outputs": [],
   "source": []
  }
 ],
 "metadata": {
  "kernelspec": {
   "display_name": "Python 3 (ipykernel)",
   "language": "python",
   "name": "python3"
  },
  "language_info": {
   "codemirror_mode": {
    "name": "ipython",
    "version": 3
   },
   "file_extension": ".py",
   "mimetype": "text/x-python",
   "name": "python",
   "nbconvert_exporter": "python",
   "pygments_lexer": "ipython3",
   "version": "3.8.11"
  }
 },
 "nbformat": 4,
 "nbformat_minor": 5
}
